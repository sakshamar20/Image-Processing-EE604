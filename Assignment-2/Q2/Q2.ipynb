{
 "cells": [
  {
   "cell_type": "code",
   "execution_count": 19,
   "metadata": {},
   "outputs": [],
   "source": [
    "\n",
    "import cv2\n",
    "import numpy as np\n",
    "def show(image):\n",
    "    # cv2.imwrite('rocks_within_lava.jpg', rocks_within_lava)\n",
    "    cv2.namedWindow(\"Image\", cv2.WINDOW_NORMAL)\n",
    "    cv2.resizeWindow(\"Image\", 500, 600)\n",
    "    cv2.imshow(\"Image\", image)\n",
    "    cv2.waitKey(0)\n",
    "    cv2.destroyAllWindows()"
   ]
  },
  {
   "cell_type": "code",
   "execution_count": 20,
   "metadata": {},
   "outputs": [],
   "source": [
    "image = cv2.imread('ultimate_test/1_a.jpg')\n",
    "show(image)"
   ]
  },
  {
   "cell_type": "code",
   "execution_count": 34,
   "metadata": {},
   "outputs": [],
   "source": [
    "gray_image = cv2.cvtColor(image, cv2.COLOR_BGR2GRAY)\n",
    "show(gray_image)\n",
    "blurred_image = cv2.GaussianBlur(gray_image, (5, 5), 0)\n",
    "\n",
    "# Apply Laplacian operator for edge details\n",
    "laplacian_image = cv2.Laplacian(blurred_image, cv2.CV_64F)\n",
    "\n",
    "# Convert the Laplacian image to uint8 (8-bit) for visualization\n",
    "laplacian_image = np.uint8(np.absolute(laplacian_image))\n",
    "\n",
    "# Apply histogram equalization for enhancing contrast\n",
    "equalized_image = cv2.equalizeHist(gray_image)\n",
    "show(laplacian_image)\n",
    "show(equalized_image)"
   ]
  },
  {
   "cell_type": "code",
   "execution_count": 49,
   "metadata": {},
   "outputs": [],
   "source": [
    "# Apply Fourier Transform\n",
    "f_transform = np.fft.fft2(gray_image)\n",
    "f_transform_shifted = np.fft.fftshift(f_transform)\n",
    "\n",
    "# Create a mask for low-frequency components (keep only the center)\n",
    "rows, cols = gray_image.shape\n",
    "crow, ccol = rows // 2, cols // 2\n",
    "r = 4  # Adjust this radius for the low-frequency components\n",
    "center = [crow, ccol]\n",
    "x, y = np.ogrid[:rows, :cols]\n",
    "mask_area = (x - center[0]) ** 2 + (y - center[1]) ** 2 <= r*r\n",
    "mask = np.zeros((rows, cols), np.uint8)\n",
    "mask[mask_area] = 1\n",
    "\n",
    "# Apply the mask to the Fourier Transform\n",
    "f_transform_shifted_low = f_transform_shifted * mask\n",
    "\n",
    "# Inverse Fourier Transform to get the low-frequency component\n",
    "low_freq_image_transformed = np.fft.ifftshift(f_transform_shifted_low)\n",
    "low_freq_image = np.abs(np.fft.ifft2(low_freq_image_transformed))\n",
    "\n",
    "\n",
    "# show(high_freq_image)\n",
    "show(low_freq_image)"
   ]
  }
 ],
 "metadata": {
  "kernelspec": {
   "display_name": "Python 3",
   "language": "python",
   "name": "python3"
  },
  "language_info": {
   "codemirror_mode": {
    "name": "ipython",
    "version": 3
   },
   "file_extension": ".py",
   "mimetype": "text/x-python",
   "name": "python",
   "nbconvert_exporter": "python",
   "pygments_lexer": "ipython3",
   "version": "3.11.6"
  },
  "orig_nbformat": 4
 },
 "nbformat": 4,
 "nbformat_minor": 2
}
