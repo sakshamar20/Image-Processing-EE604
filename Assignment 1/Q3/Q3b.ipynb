{
 "cells": [
  {
   "cell_type": "code",
   "execution_count": 388,
   "metadata": {},
   "outputs": [],
   "source": [
    "import cv2\n",
    "import numpy as np\n",
    "import matplotlib.pyplot as plt\n",
    "np.set_printoptions(threshold=np.inf)\n",
    "import skimage as sk\n"
   ]
  },
  {
   "cell_type": "code",
   "execution_count": 389,
   "metadata": {},
   "outputs": [],
   "source": [
    "def show(image):\n",
    "    cv2.imshow(\"Image\", image)\n",
    "    cv2.waitKey(3000)\n",
    "    cv2.destroyAllWindows()"
   ]
  },
  {
   "cell_type": "code",
   "execution_count": 390,
   "metadata": {},
   "outputs": [],
   "source": [
    "def save(image, name):\n",
    "    cv2.imwrite(name, image)"
   ]
  },
  {
   "cell_type": "code",
   "execution_count": 391,
   "metadata": {},
   "outputs": [
    {
     "name": "stdout",
     "output_type": "stream",
     "text": [
      "D:\\Assignment 1\\Q3\\test\\3r.png\n"
     ]
    }
   ],
   "source": [
    "image_path = \"D:\\Assignment 1\\Q3\\\\test\\\\3r.png\"\n",
    "print(image_path)\n",
    "image= cv2.imread(image_path)\n",
    "if image is None:\n",
    "    print(\"Error: Unable to load image.\")\n",
    "show(image)\n"
   ]
  },
  {
   "cell_type": "code",
   "execution_count": 392,
   "metadata": {},
   "outputs": [],
   "source": [
    "gray = 255 - cv2.cvtColor(image, cv2.COLOR_BGR2GRAY)\n",
    "# show(gray)"
   ]
  },
  {
   "cell_type": "code",
   "execution_count": 393,
   "metadata": {},
   "outputs": [],
   "source": [
    "thresh = cv2.threshold(gray, 150, 255, cv2.THRESH_BINARY)[1]\n",
    "max_ang = 0\n",
    "max_ar = 0\n",
    "for angle in range(0,180):\n",
    "    rot = sk.img_as_ubyte(sk.transform.rotate(thresh,angle, resize = True))\n",
    "    arr = np.asarray(rot)\n",
    "    dims = np.shape(arr)\n",
    "    ar = np.zeros(dims[0])\n",
    "\n",
    "    for i in range(0,dims[0]-1):\n",
    "        ar[i] = np.sum(arr[i][:])\n",
    "    \n",
    "    if(max_ar <= np.max(ar)):\n",
    "        max_ar = np.max(ar)\n",
    "        max_angle = angle"
   ]
  },
  {
   "cell_type": "code",
   "execution_count": 394,
   "metadata": {},
   "outputs": [],
   "source": [
    "rot = sk.img_as_ubyte(sk.transform.rotate(thresh,max_angle, resize = True))\n",
    "arr = np.asarray(rot)\n",
    "dims = np.shape(arr)\n",
    "ar = np.zeros(dims[0])\n",
    "max = 0\n",
    "maxi = 0\n",
    "for i in range(0,dims[0]-1):\n",
    "    ar[i] = np.sum(arr[i][:])\n",
    "    if(ar[i] > max):\n",
    "        max = ar[i]\n",
    "        maxi = i\n",
    "\n",
    "flip = 0\n",
    "\n",
    "np.sum(ar[maxi:maxi+10])\n",
    "if(np.sum(ar[maxi-4:maxi-1])>np.sum(ar[maxi+1:maxi+4])):\n",
    "    flip = 1\n"
   ]
  },
  {
   "cell_type": "code",
   "execution_count": 395,
   "metadata": {},
   "outputs": [],
   "source": [
    "if(flip == 1):\n",
    "    max_angle -=180\n",
    "img = sk.img_as_ubyte(sk.transform.rotate(gray,max_angle, resize = True))\n",
    "show( 255 - cv2.cvtColor(img, cv2.COLOR_RGB2BGR))\n",
    "# sk.io.imsave('Corrected.jpg',255-img )\n",
    "# print(np.unique(thresh))"
   ]
  }
 ],
 "metadata": {
  "kernelspec": {
   "display_name": "ee604",
   "language": "python",
   "name": "python3"
  },
  "language_info": {
   "codemirror_mode": {
    "name": "ipython",
    "version": 3
   },
   "file_extension": ".py",
   "mimetype": "text/x-python",
   "name": "python",
   "nbconvert_exporter": "python",
   "pygments_lexer": "ipython3",
   "version": "3.11.5"
  },
  "orig_nbformat": 4
 },
 "nbformat": 4,
 "nbformat_minor": 2
}
